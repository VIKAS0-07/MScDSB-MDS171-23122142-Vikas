{
 "cells": [
  {
   "cell_type": "code",
   "execution_count": 1,
   "metadata": {},
   "outputs": [
    {
     "name": "stdout",
     "output_type": "stream",
     "text": [
      "54294\n",
      "100\n",
      "100\n",
      "The mean is 542.94\n",
      "The minimum is 17\n",
      "The maximum is 999\n",
      "The range is 982\n"
     ]
    }
   ],
   "source": [
    "a=[761, 123, 585, 275, 194, 840, 999, 622, 763, 40, 825, 687, 402, 338, 611, 987, 739, 95, 819, 568, 320, 126, 688, 948, 514, 223, 751, 379, 857, 767, 492, 162, 437, 934, 430, 343, 725, 511, 580, 678, 708, 823, 346, 179, 786, 663, 195, 890, 267, 502, 214, 300, 786, 961, 235, 559, 992, 919, 948, 318, 57, 787, 653, 317, 305, 172, 966, 182, 970, 17, 89, 624, 629, 595, 485, 752, 984, 978, 460, 124, 321, 256, 614, 852, 811, 561, 127, 207, 406, 615, 888, 391, 691, 470, 911, 401, 137, 600, 478, 682]\n",
    "sum=0\n",
    "for item in a:\n",
    "    sum+=int(item)\n",
    "print(sum)\n",
    "\n",
    "total=0\n",
    "for item in a:\n",
    "    total=total+1\n",
    "print(total)\n",
    "\n",
    "def mean(a):\n",
    "    average=sum/total\n",
    "    return average\n",
    "print(\"The mean is\",mean(a))\n",
    "\n",
    "def minimum(a):\n",
    "    y=a[0]\n",
    "    for i in a:\n",
    "        if i<y:\n",
    "            y=i\n",
    "    return y\n",
    "print(\"The minimum is\",minimum(a))\n",
    "\n",
    "def maximum(a):\n",
    "    t=a[0]\n",
    "    for i in a:\n",
    "        if i>t:\n",
    "            t=i\n",
    "    return t\n",
    "print(\"The maximum is\",maximum(a))\n",
    "\n",
    "def range():\n",
    "    r=maximum(a)-minimum(a)\n",
    "    print(\"The range is\",r)\n",
    "range()\n",
    "\n",
    "\n",
    "\n",
    "\n"
   ]
  },
  {
   "cell_type": "markdown",
   "metadata": {},
   "source": [
    "PREDEFINED FUNCTIONS:\n"
   ]
  },
  {
   "cell_type": "code",
   "execution_count": 76,
   "metadata": {},
   "outputs": [
    {
     "name": "stdout",
     "output_type": "stream",
     "text": [
      "The minimum value of the list is: 17\n",
      "The maximum value in the list is: 999\n"
     ]
    }
   ],
   "source": [
    "print(\"The minimum value of the list is:\",min(a))\n",
    "print(\"The maximum value in the list is:\",max(a))"
   ]
  },
  {
   "cell_type": "markdown",
   "metadata": {},
   "source": [
    "Therefore,both the user-defined functions and pre-built functions are the same which is necessary to convince the numbers who gathered at the harmony."
   ]
  }
 ],
 "metadata": {
  "kernelspec": {
   "display_name": "Python 3",
   "language": "python",
   "name": "python3"
  },
  "language_info": {
   "codemirror_mode": {
    "name": "ipython",
    "version": 3
   },
   "file_extension": ".py",
   "mimetype": "text/x-python",
   "name": "python",
   "nbconvert_exporter": "python",
   "pygments_lexer": "ipython3",
   "version": "3.11.4"
  },
  "orig_nbformat": 4
 },
 "nbformat": 4,
 "nbformat_minor": 2
}
