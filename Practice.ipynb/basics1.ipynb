{
 "cells": [
  {
   "cell_type": "code",
   "execution_count": 18,
   "metadata": {},
   "outputs": [],
   "source": [
    "file=open(\"Sample txt\",\"w+\")"
   ]
  },
  {
   "cell_type": "code",
   "execution_count": 19,
   "metadata": {},
   "outputs": [
    {
     "data": {
      "text/plain": [
       "42"
      ]
     },
     "execution_count": 19,
     "metadata": {},
     "output_type": "execute_result"
    }
   ],
   "source": [
    "file.write(\"This is my first line to file from python\\n\")"
   ]
  },
  {
   "cell_type": "code",
   "execution_count": 20,
   "metadata": {},
   "outputs": [],
   "source": [
    "file.close()"
   ]
  },
  {
   "cell_type": "code",
   "execution_count": 21,
   "metadata": {},
   "outputs": [
    {
     "data": {
      "text/plain": [
       "'This is my first line to file from python\\n'"
      ]
     },
     "execution_count": 21,
     "metadata": {},
     "output_type": "execute_result"
    }
   ],
   "source": [
    "file=open(\"Sample txt\",\"r+\")\n",
    "file.readline()"
   ]
  },
  {
   "cell_type": "code",
   "execution_count": 22,
   "metadata": {},
   "outputs": [
    {
     "data": {
      "text/plain": [
       "[]"
      ]
     },
     "execution_count": 22,
     "metadata": {},
     "output_type": "execute_result"
    }
   ],
   "source": [
    "file.readlines()"
   ]
  },
  {
   "cell_type": "markdown",
   "metadata": {},
   "source": [
    "Write a function that accepts your detials and save it into file with your name"
   ]
  },
  {
   "cell_type": "code",
   "execution_count": 1,
   "metadata": {},
   "outputs": [
    {
     "name": "stdout",
     "output_type": "stream",
     "text": [
      "1 1\n",
      "3 9\n",
      "5 25\n",
      "7 49\n",
      "9 81\n"
     ]
    }
   ],
   "source": [
    "a=1\n",
    "while a<10:\n",
    "    res=a*a\n",
    "    print(a,res)\n",
    "    a=a+2"
   ]
  },
  {
   "cell_type": "code",
   "execution_count": 3,
   "metadata": {},
   "outputs": [
    {
     "name": "stdout",
     "output_type": "stream",
     "text": [
      "0\n",
      "2\n",
      "4\n",
      "6\n",
      "8\n",
      "10\n",
      "12\n",
      "14\n"
     ]
    }
   ],
   "source": [
    "#break\n",
    "for i in range(0,20,2):\n",
    "    if i==16:\n",
    "        break\n",
    "    print(i)"
   ]
  },
  {
   "cell_type": "code",
   "execution_count": 6,
   "metadata": {},
   "outputs": [
    {
     "name": "stdout",
     "output_type": "stream",
     "text": [
      "2\n",
      "4\n",
      "6\n",
      "8\n",
      "10\n",
      "12\n",
      "14\n",
      "16\n",
      "18\n",
      "20\n",
      "22\n",
      "24\n",
      "26\n",
      "30\n",
      "32\n",
      "34\n"
     ]
    }
   ],
   "source": [
    "#continue\n",
    "for i in range(2,35,2):\n",
    "    if i==28:\n",
    "        continue\n",
    "    print(i)\n"
   ]
  },
  {
   "cell_type": "code",
   "execution_count": 10,
   "metadata": {},
   "outputs": [
    {
     "name": "stdout",
     "output_type": "stream",
     "text": [
      "['hi', 'hello', 'hey', 'hwu', 'good', 'hi']\n",
      "{'hi', 'hey', 'hello', 'hwu', 'good'}\n",
      "['hi', 'hey', 'hello', 'hwu', 'good']\n",
      "<class 'list'>\n",
      "<class 'set'>\n",
      "<class 'list'>\n"
     ]
    }
   ],
   "source": [
    "#set\n",
    "list_ex=[\"hi\",\"hello\",\"hey\",\"hwu\",\"good\",\"hi\"]\n",
    "set_ex=set(list_ex)\n",
    "back=list(set_ex)\n",
    "print(list_ex)\n",
    "print(set_ex)\n",
    "print(back)\n",
    "print(type(list_ex))\n",
    "print(type(set_ex))\n",
    "print(type(back))\n",
    "\n",
    "\n"
   ]
  },
  {
   "cell_type": "markdown",
   "metadata": {},
   "source": [
    "CREATE A LIST OF NAMES THAT ARE RANDOM AND REPEATING IDENTIFY THE UNIQUE ITEMS AND THEIR COUNT\n"
   ]
  },
  {
   "cell_type": "code",
   "execution_count": 15,
   "metadata": {},
   "outputs": [
    {
     "name": "stdout",
     "output_type": "stream",
     "text": [
      "{'Sankar', 'Srihari', 'Abishek', 'Rahul', 'Vijay', 'Shahith', 'Akash'}\n",
      "7\n"
     ]
    }
   ],
   "source": [
    "mylist=[\"Sankar\",\"Abishek\",\"Rahul\",\"Abishek\",\"Shahith\",\"Srihari\",\"Akash\",\"Vijay\"]\n",
    "set_list=set(mylist)\n",
    "print(set_list)\n",
    "count=len(set_list)\n",
    "print(count)\n"
   ]
  },
  {
   "cell_type": "code",
   "execution_count": 1,
   "metadata": {},
   "outputs": [
    {
     "name": "stdout",
     "output_type": "stream",
     "text": [
      "['HIH', 'OPI', 'KIL', 'OPI', 'LOL']\n",
      "{'HIH', 'KIL', 'OPI', 'LOL'}\n",
      "HIH 1\n",
      "KIL 1\n",
      "OPI 2\n",
      "LOL 1\n"
     ]
    }
   ],
   "source": [
    "names=[]\n",
    "for i in range(0,5,1):\n",
    "    name=input(\"Enter the names:\")\n",
    "    name=name.strip()\n",
    "    name=name.upper()\n",
    "    names.append(name)\n",
    "print(names)\n",
    "un_names=set(names)\n",
    "print(un_names)\n",
    "for search in un_names:\n",
    "    count=0\n",
    "    for item in names:\n",
    "        if search==item:\n",
    "            count=count+1\n",
    "    print(search,count)"
   ]
  },
  {
   "cell_type": "markdown",
   "metadata": {},
   "source": [
    "DICTIONARIES:\n"
   ]
  },
  {
   "cell_type": "code",
   "execution_count": 12,
   "metadata": {},
   "outputs": [
    {
     "name": "stdout",
     "output_type": "stream",
     "text": [
      "{'Name': 'Yuvraj', 'Phone': 9675421302, 'Email': 'abc@gmail.com'}\n",
      "Yuvraj\n",
      "9675421302\n",
      "abc@gmail.com\n",
      "{'Name': 'Yuvraj', 'Phone': 9675421302, 'Email': 'abc@gmail.com', 'Address': 'Christ University Lavasa'}\n",
      "dict_keys(['Name', 'Phone', 'Email', 'Address'])\n",
      "Name\n",
      "Phone\n",
      "Email\n",
      "Address\n"
     ]
    }
   ],
   "source": [
    "my_dict={\n",
    "    \"Name\":  \"Yuvraj\",\n",
    "    \"Phone\":9675421302,                 #keys and values of a dictionary \n",
    "    \"Email\": \"abc@gmail.com\"\n",
    "    }\n",
    "print(my_dict)\n",
    "print(my_dict[\"Name\"])\n",
    "print(my_dict[\"Phone\"])\n",
    "print(my_dict[\"Email\"])\n",
    "\n",
    "my_dict[\"Address\"]=\"Christ University Lavasa\"       #adding a key and value to a dictionary\n",
    "print(my_dict)\n",
    "\n",
    "my_dict.keys()                      #functions of a dictionary\n",
    "print(my_dict.keys())\n",
    "for key in my_dict.keys():\n",
    "    print(key)"
   ]
  },
  {
   "cell_type": "code",
   "execution_count": 28,
   "metadata": {},
   "outputs": [
    {
     "name": "stdout",
     "output_type": "stream",
     "text": [
      "Yeshwanth\n",
      "Rahul\n",
      "Abishek\n",
      "Yeshwanth\n",
      "Sankar\n"
     ]
    }
   ],
   "source": [
    "students={\n",
    "    \"Names\":[\"Rahul\",\"Abishek\",\"Yeshwanth\",\"Sankar\"],#Each didctionary to be seperated by commas\n",
    "    \"Register Number\":[1,2,14,56],    \n",
    "}\n",
    "\n",
    "print(students[\"Names\"][2])             #Accessing elements in a dictionary\n",
    "for names in students[\"Names\"]:\n",
    "    print(names)\n"
   ]
  },
  {
   "cell_type": "code",
   "execution_count": 34,
   "metadata": {},
   "outputs": [
    {
     "name": "stdout",
     "output_type": "stream",
     "text": [
      "{'Name': 'Aadith', 'regno': 23122001, 'email': 'abc@gmail.com', 'Phone': 7856419844}\n",
      "Aadith\t23122001\tabc@gmail.com\t7856419844\t\n",
      "{'Name': 'Abey', 'regno': 23122002, 'email': 'abcd@gmail.com', 'Phone': 7855619844}\n",
      "Abey\t23122002\tabcd@gmail.com\t7855619844\t\n",
      "{'Name': 'Aman', 'regno': 23122003, 'email': 'abcde@gmail.com', 'Phone': 857891284}\n",
      "Aman\t23122003\tabcde@gmail.com\t857891284\t\n"
     ]
    }
   ],
   "source": [
    "#var=[student1,student2,student3]\n",
    "mscdsb=[\n",
    "    {\n",
    "        \"Name\":\"Aadith\",\n",
    "        \"regno\":23122001,\n",
    "        \"email\":\"abc@gmail.com\",\n",
    "        \"Phone\":7856419844\n",
    "    },\n",
    "    {\n",
    "        \"Name\":\"Abey\",\n",
    "        \"regno\":23122002,\n",
    "        \"email\":\"abcd@gmail.com\",\n",
    "        \"Phone\":7855619844\n",
    "    },\n",
    "    {\n",
    "        \"Name\":\"Aman\",\n",
    "        \"regno\":23122003,\n",
    "        \"email\":\"abcde@gmail.com\",\n",
    "        \"Phone\":857891284\n",
    "    },\n",
    "]\n",
    "for student in mscdsb:\n",
    "    print(student)\n",
    "    for key in student.keys():      #TO PRINT THE VALUES OF A DICTIONARY WITHOUT THE KEYS \n",
    "        print(student[key],end=\"\\t\")        #\"\\t\" is used for tab space\n",
    "    print()"
   ]
  },
  {
   "cell_type": "code",
   "execution_count": 5,
   "metadata": {},
   "outputs": [
    {
     "ename": "IndentationError",
     "evalue": "expected an indented block after function definition on line 5 (1139451049.py, line 6)",
     "output_type": "error",
     "traceback": [
      "\u001b[1;36m  Cell \u001b[1;32mIn[5], line 6\u001b[1;36m\u001b[0m\n\u001b[1;33m    for item in inventory :\u001b[0m\n\u001b[1;37m    ^\u001b[0m\n\u001b[1;31mIndentationError\u001b[0m\u001b[1;31m:\u001b[0m expected an indented block after function definition on line 5\n"
     ]
    }
   ],
   "source": [
    "    # Initialize an empty list to represent the inventory\n",
    "inventory = []\n",
    "\n",
    "# Function to add a product to the inventory\n",
    "def add_product(product_name, quantity):\n",
    "    for item in inventory :\n",
    "        if item['product_name'] == product_name:\n",
    "            item['quantity'] += quantity\n",
    "            break\n",
    "    else:\n",
    "        inventory.append({'product_name': product_name, 'quantity': quantity})\n",
    "\n",
    "# Function to remove a product from the inventory\n",
    "def remove_product(product_name, quantity):\n",
    "    for item in inventory:\n",
    "        if item['product_name'] == product_name:\n",
    "            if item['quantity'] >= quantity:\n",
    "                item['quantity'] -= quantity\n",
    "                break\n",
    "            else:\n",
    "                print(\"Insufficient quantity in inventory.\")\n",
    "                break\n",
    "    else:\n",
    "        print(f\"{product_name} not found in inventory.\")\n",
    "\n",
    "# Function to check the availability of a product in the inventory\n",
    "def check_availability(product_name):\n",
    "    for item in inventory:\n",
    "        if item['product_name'] == product_name:\n",
    "            return item['quantity']\n",
    "    return 0\n",
    "\n",
    "# Function to display the current inventory\n",
    "def display_inventory():\n",
    "    if not inventory:\n",
    "        print(\"Inventory is empty.\")\n",
    "    else:\n",
    "        print(\"Current Inventory:\")\n",
    "        for item in inventory:\n",
    "            print(f\"{item['product_name']}: {item['quantity']} units\")\n",
    "\n",
    "# Main supply chain management loop\n",
    "while True:\n",
    "    print(\"\\nSupply Chain Management Menu:\")\n",
    "    print(\"1. Add Product to Inventory\")\n",
    "    print(\"2. Remove Product from Inventory\")\n",
    "    print(\"3. Check Product Availability\")\n",
    "    print(\"4. Display Inventory\")\n",
    "    print(\"5. Exit\")\n",
    "\n",
    "    choice = input(\"Enter your choice: \")\n",
    "\n",
    "    if choice == '1':\n",
    "        product_name = input(\"Enter the product name: \")\n",
    "        quantity = int(input(\"Enter the quantity to add: \"))\n",
    "        add_product(product_name, quantity)\n",
    "        print(f\"{quantity} {product_name} added to inventory.\")\n",
    "\n",
    "    elif choice == '2':\n",
    "        product_name = input(\"Enter the product name: \")\n",
    "        quantity = int(input(\"Enter the quantity to remove: \"))\n",
    "        remove_product(product_name, quantity)\n",
    "\n",
    "    elif choice == '3':\n",
    "        product_name = input(\"Enter the product name: \")\n",
    "        available_quantity = check_availability(product_name)\n",
    "        print(f\"{product_name} available in inventory: {available_quantity} units\")\n",
    "\n",
    "    elif choice == '4':\n",
    "        display_inventory()\n",
    "\n",
    "    elif choice == '5':\n",
    "        print(\"Exiting Supply Chain Management System.\")\n",
    "        break\n",
    "\n",
    "    else:\n",
    "        print(\"Invalid choice. Please select a valid option.\")\n"
   ]
  },
  {
   "cell_type": "code",
   "execution_count": 4,
   "metadata": {},
   "outputs": [],
   "source": [
    "\n"
   ]
  },
  {
   "cell_type": "code",
   "execution_count": null,
   "metadata": {},
   "outputs": [],
   "source": []
  }
 ],
 "metadata": {
  "kernelspec": {
   "display_name": "Python 3",
   "language": "python",
   "name": "python3"
  },
  "language_info": {
   "codemirror_mode": {
    "name": "ipython",
    "version": 3
   },
   "file_extension": ".py",
   "mimetype": "text/x-python",
   "name": "python",
   "nbconvert_exporter": "python",
   "pygments_lexer": "ipython3",
   "version": "3.11.4"
  },
  "orig_nbformat": 4
 },
 "nbformat": 4,
 "nbformat_minor": 2
}
