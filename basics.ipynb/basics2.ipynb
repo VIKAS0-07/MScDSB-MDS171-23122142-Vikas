{
 "cells": [
  {
   "cell_type": "code",
   "execution_count": 1,
   "metadata": {},
   "outputs": [
    {
     "name": "stdout",
     "output_type": "stream",
     "text": [
      "Menu Options\n",
      "1. Enter Student Info\n",
      "2. List Students\n",
      "3. Exit\n"
     ]
    }
   ],
   "source": [
    "studentDict = {}\n",
    "\n",
    "def createStudent(name,regno,email,phone):\n",
    "    student = {\n",
    "        \"Name\": name,\n",
    "        \"Email\": email,\n",
    "        \"Phone\": phone\n",
    "    }\n",
    "\n",
    "    studentDict[regno] = student\n",
    "\n",
    "def collectStudentInfo():\n",
    "    name = input(\"Enter Student Name: \")\n",
    "    regno = input(\"Enter Student regno: \")\n",
    "    email = input(\"Enter Student Email: \")\n",
    "    phone = input(\"Enter Student Phone: \")\n",
    "    return name, regno, email, phone\n",
    "\n",
    "def printStudents():\n",
    "    print(\"Regno\\tName\\tEmail\\tPhone\")\n",
    "    for regno in studentDict.keys():\n",
    "        print(regno,end=\"\\t\")\n",
    "        for key in studentDict[regno]:\n",
    "            print(studentDict[regno][key],end='\\t')\n",
    "        print()\n",
    "\n",
    "while True:\n",
    "    print(\"Menu Options\")\n",
    "    print(\"1. Enter Student Info\")\n",
    "    print(\"2. List Students\")\n",
    "    print(\"3. Exit\")\n",
    "\n",
    "    choice = input(\"Enter the choice\").strip()\n",
    "    if choice == \"1\":\n",
    "        name, regno, email, phone = collectStudentInfo()\n",
    "        createStudent(name, regno, email, phone)\n",
    "    elif choice == \"2\":\n",
    "        printStudents()\n",
    "    elif choice == \"3\":\n",
    "        exit()\n",
    "    else:\n",
    "        print(\"Invalid Choice\")\n",
    "    "
   ]
  },
  {
   "cell_type": "code",
   "execution_count": 5,
   "metadata": {},
   "outputs": [
    {
     "name": "stdout",
     "output_type": "stream",
     "text": [
      "None\n"
     ]
    }
   ],
   "source": [
    "a=input([])\n",
    "b=[]\n",
    "a=a.split(\",\")\n",
    "b.append(a)\n",
    "print(b)\n",
    "\n",
    "\n",
    "\n",
    "\n",
    "\n"
   ]
  },
  {
   "cell_type": "code",
   "execution_count": 2,
   "metadata": {},
   "outputs": [
    {
     "ename": "TypeError",
     "evalue": "petstore.store_pets() missing 1 required positional argument: 'age'",
     "output_type": "error",
     "traceback": [
      "\u001b[1;31m---------------------------------------------------------------------------\u001b[0m",
      "\u001b[1;31mTypeError\u001b[0m                                 Traceback (most recent call last)",
      "\u001b[1;32mc:\\Users\\vikas\\OneDrive\\Desktop\\PYTHON\\basics.ipynb\\basics2.ipynb Cell 3\u001b[0m line \u001b[0;36m3\n\u001b[0;32m     <a href='vscode-notebook-cell:/c%3A/Users/vikas/OneDrive/Desktop/PYTHON/basics.ipynb/basics2.ipynb#W2sZmlsZQ%3D%3D?line=35'>36</a>\u001b[0m         \u001b[39mprint\u001b[39m(\u001b[39m\"\u001b[39m\u001b[39mThe available pets in the list are:\u001b[39m\u001b[39m\"\u001b[39m,\u001b[39mself\u001b[39m\u001b[39m.\u001b[39mdisplay)\n\u001b[0;32m     <a href='vscode-notebook-cell:/c%3A/Users/vikas/OneDrive/Desktop/PYTHON/basics.ipynb/basics2.ipynb#W2sZmlsZQ%3D%3D?line=37'>38</a>\u001b[0m pets\u001b[39m=\u001b[39mpetstore() \n\u001b[1;32m---> <a href='vscode-notebook-cell:/c%3A/Users/vikas/OneDrive/Desktop/PYTHON/basics.ipynb/basics2.ipynb#W2sZmlsZQ%3D%3D?line=38'>39</a>\u001b[0m pets\u001b[39m.\u001b[39;49mstore_pets()\n\u001b[0;32m     <a href='vscode-notebook-cell:/c%3A/Users/vikas/OneDrive/Desktop/PYTHON/basics.ipynb/basics2.ipynb#W2sZmlsZQ%3D%3D?line=39'>40</a>\u001b[0m pets\u001b[39m.\u001b[39msearch_pets()\n\u001b[0;32m     <a href='vscode-notebook-cell:/c%3A/Users/vikas/OneDrive/Desktop/PYTHON/basics.ipynb/basics2.ipynb#W2sZmlsZQ%3D%3D?line=40'>41</a>\u001b[0m pets\u001b[39m.\u001b[39msell_pet()\n",
      "\u001b[1;31mTypeError\u001b[0m: petstore.store_pets() missing 1 required positional argument: 'age'"
     ]
    }
   ],
   "source": [
    "class petstore:\n",
    "    def __init__(self):\n",
    "        self.Lst_pets = [\"MACAW\",\"SUGARGLIDER\",\"HORSE\",\"CLOWN FISH\",\"PITBULL\"]\n",
    "        self.Lst_age = [4,5,1,2,3]    \n",
    "        \n",
    "    def display_Lst(self):\n",
    "        \n",
    "        print(self.Lst_pets)\n",
    "        print(self.Lst_age)\n",
    "        \n",
    "    def store_pets(self,age):\n",
    "        self.new_pet = input(\"Enter the name of the pet\").strip().upper()\n",
    "        self.age_pet = int(input(\"Enter the age of the pet\"))\n",
    "        self.new_pet = name\n",
    "        self.age_pet = age\n",
    "        self.Lst_pets.append(self.new_pet)\n",
    "        self.Lst_age.append(self.age_pet)\n",
    "\n",
    "    def search_pets(self):\n",
    "        self.search = input(\"Enter the pet name to be searched:\").strip().upper()\n",
    "        for i in self.Lst_pets:\n",
    "            if i==self.search:\n",
    "                print(\"This pet is available in the store\",self.search)\n",
    "            else:\n",
    "                print(\"This pet is not available in the store\")\n",
    "        \n",
    "    def sell_pet(self):\n",
    "        self.sell_cust=input(\"Enter the pet name that the customer wants:\")\n",
    "        for items in self.Lst_pets:\n",
    "            if items==self.sell_cust:\n",
    "                self.Lst_pets -= self.sell_cust\n",
    "        print(\"The pet is sold successfully\")\n",
    "\n",
    "    def list_allpets(self):\n",
    "        self.display = self.Lst_pets\n",
    "        print(\"The available pets in the list are:\",self.display)\n",
    "\n",
    "pets=petstore() \n",
    "pets.store_pets()\n",
    "pets.search_pets()\n",
    "pets.sell_pet()\n",
    "pets.list_allpets()"
   ]
  },
  {
   "cell_type": "code",
   "execution_count": 35,
   "metadata": {},
   "outputs": [
    {
     "name": "stdout",
     "output_type": "stream",
     "text": [
      "The pets available in the store are:\n",
      "{'DOGS': [{'Labrador': 10000, 'Rotweiller': 20000, 'Doberman': 30000, 'Pitbull': 40000}], 'CATS': [{'Persian': 13000, 'Siamese': 23000, 'Himalayan': 30000, 'American Bobtail': 45000}], 'FISHES': [{'Fighter': 150, 'Koi': 120, 'Flowerhorn': 2500, 'Goldfish': 400}], 'PARROT': [{'Macaw': 200000, 'Cockateil': 6500, 'Green Parrot': 8500, 'African Parrot': 45000}]}\n"
     ]
    },
    {
     "ename": "TypeError",
     "evalue": "string indices must be integers, not 'dict'",
     "output_type": "error",
     "traceback": [
      "\u001b[1;31m---------------------------------------------------------------------------\u001b[0m",
      "\u001b[1;31mTypeError\u001b[0m                                 Traceback (most recent call last)",
      "\u001b[1;32mc:\\Users\\vikas\\OneDrive\\Desktop\\PYTHON\\basics.ipynb\\basics2.ipynb Cell 4\u001b[0m line \u001b[0;36m4\n\u001b[0;32m     <a href='vscode-notebook-cell:/c%3A/Users/vikas/OneDrive/Desktop/PYTHON/basics.ipynb/basics2.ipynb#W3sZmlsZQ%3D%3D?line=41'>42</a>\u001b[0m             \u001b[39mprint\u001b[39m(\u001b[39m\"\u001b[39m\u001b[39mThis pet is not available in the store for adoption\u001b[39m\u001b[39m\"\u001b[39m)\n\u001b[0;32m     <a href='vscode-notebook-cell:/c%3A/Users/vikas/OneDrive/Desktop/PYTHON/basics.ipynb/basics2.ipynb#W3sZmlsZQ%3D%3D?line=43'>44</a>\u001b[0m pet_details()\n\u001b[1;32m---> <a href='vscode-notebook-cell:/c%3A/Users/vikas/OneDrive/Desktop/PYTHON/basics.ipynb/basics2.ipynb#W3sZmlsZQ%3D%3D?line=44'>45</a>\u001b[0m store_pets()\n",
      "\u001b[1;32mc:\\Users\\vikas\\OneDrive\\Desktop\\PYTHON\\basics.ipynb\\basics2.ipynb Cell 4\u001b[0m line \u001b[0;36m3\n\u001b[0;32m     <a href='vscode-notebook-cell:/c%3A/Users/vikas/OneDrive/Desktop/PYTHON/basics.ipynb/basics2.ipynb#W3sZmlsZQ%3D%3D?line=28'>29</a>\u001b[0m breed\u001b[39m=\u001b[39m\u001b[39minput\u001b[39m(\u001b[39m\"\u001b[39m\u001b[39mEnter the breed:\u001b[39m\u001b[39m\"\u001b[39m)\n\u001b[0;32m     <a href='vscode-notebook-cell:/c%3A/Users/vikas/OneDrive/Desktop/PYTHON/basics.ipynb/basics2.ipynb#W3sZmlsZQ%3D%3D?line=29'>30</a>\u001b[0m price\u001b[39m=\u001b[39m\u001b[39minput\u001b[39m(\u001b[39m\"\u001b[39m\u001b[39mEnter the price:\u001b[39m\u001b[39m\"\u001b[39m)\n\u001b[1;32m---> <a href='vscode-notebook-cell:/c%3A/Users/vikas/OneDrive/Desktop/PYTHON/basics.ipynb/basics2.ipynb#W3sZmlsZQ%3D%3D?line=30'>31</a>\u001b[0m pet5\u001b[39m=\u001b[39m name[{\u001b[39m\"\u001b[39;49m\u001b[39mbreed\u001b[39;49m\u001b[39m\"\u001b[39;49m:breed,\u001b[39m\"\u001b[39;49m\u001b[39mprice\u001b[39;49m\u001b[39m\"\u001b[39;49m: price}]\n\u001b[0;32m     <a href='vscode-notebook-cell:/c%3A/Users/vikas/OneDrive/Desktop/PYTHON/basics.ipynb/basics2.ipynb#W3sZmlsZQ%3D%3D?line=32'>33</a>\u001b[0m pets\u001b[39m.\u001b[39mupdate(pet5)\n\u001b[0;32m     <a href='vscode-notebook-cell:/c%3A/Users/vikas/OneDrive/Desktop/PYTHON/basics.ipynb/basics2.ipynb#W3sZmlsZQ%3D%3D?line=33'>34</a>\u001b[0m \u001b[39mprint\u001b[39m(pets)\n",
      "\u001b[1;31mTypeError\u001b[0m: string indices must be integers, not 'dict'"
     ]
    }
   ],
   "source": [
    "def pet_details():\n",
    "    pets={\n",
    "            \"DOGS\" : [ {\"Labrador\" : 10000,\n",
    "                       \"Rotweiller\" : 20000,\n",
    "                       \"Doberman\" : 30000,\n",
    "                       \"Pitbull\" : 40000,\n",
    "                       } ],\n",
    "            \"CATS\" : [ {\"Persian\" : 13000,\n",
    "                      \"Siamese\" : 23000,\n",
    "                      \"Himalayan\" : 30000,\n",
    "                      \"American Bobtail\" : 45000,\n",
    "                      } ],\n",
    "            \"FISHES\" : [ {\"Fighter\" : 150,\n",
    "                        \"Koi\" : 120,\n",
    "                        \"Flowerhorn\" : 2500,\n",
    "                        \"Goldfish\" : 400,\n",
    "                        } ],\n",
    "            \"PARROT\" : [ {\"Macaw\" : 200000,\n",
    "                         \"Cockateil\" : 6500,\n",
    "                         \"Green Parrot\" : 8500,\n",
    "                         \"African Parrot\" : 45000,\n",
    "                         } ]\n",
    "        }\n",
    "    print(\"The pets available in the store are:\")\n",
    "    print(pets)\n",
    "\n",
    "def store_pets():\n",
    "    name=input(\"Enter the name of the pet to be added:\")\n",
    "    breed=input(\"Enter the breed:\")\n",
    "    price=input(\"Enter the price:\")\n",
    "    pet5= name[{\"breed\":breed,\"price\": price}]\n",
    "    \n",
    "    pets.update(pet5)\n",
    "    print(pets)\n",
    "\n",
    "def search1():\n",
    "    search = input(\"Enter the pet name to be searched:\").strip().upper()\n",
    "    for i in pets:\n",
    "        if i==search:\n",
    "            print(\"This pet is available in the storecfor adoption\",i)\n",
    "        else:\n",
    "            print(\"This pet is not available in the store for adoption\")\n",
    "        \n",
    "pet_details()\n",
    "store_pets()\n"
   ]
  },
  {
   "cell_type": "code",
   "execution_count": 6,
   "metadata": {},
   "outputs": [],
   "source": [
    "pets={\n",
    "            \"DOGS\" : [ {\"Labrador\" : 10000,\n",
    "                       \"Rotweiller\" : 20000,\n",
    "                       \"Doberman\" : 30000,\n",
    "                       \"Pitbull\" : 40000,\n",
    "                       } ],\n",
    "            \"CATS\" : [ {\"Persian\" : 13000,\n",
    "                      \"Siamese\" : 23000,\n",
    "                      \"Himalayan\" : 30000,\n",
    "                      \"American Bobtail\" : 45000,\n",
    "                      } ],\n",
    "            \"FISHES\" : [ {\"Fighter\" : 150,\n",
    "                        \"Koi\" : 120,\n",
    "                        \"Flowerhorn\" : 2500,\n",
    "                        \"Goldfish\" : 400,\n",
    "                        } ],\n",
    "            \"PARROT\" : [ {\"Macaw\" : 200000,\n",
    "                         \"Cockateil\" : 6500,\n",
    "                         \"Green Parrot\" : 8500,\n",
    "                         \"African Parrot\" : 45000,\n",
    "                         } ]\n",
    "        }"
   ]
  },
  {
   "cell_type": "code",
   "execution_count": 13,
   "metadata": {},
   "outputs": [
    {
     "name": "stdout",
     "output_type": "stream",
     "text": [
      "DOGS\n",
      "[{'Labrador': 10000, 'Rotweiller': 20000, 'Doberman': 30000, 'Pitbull': 40000}]\n",
      "CATS\n",
      "[{'Persian': 13000, 'Siamese': 23000, 'Himalayan': 30000, 'American Bobtail': 45000}]\n",
      "FISHES\n",
      "[{'Fighter': 150, 'Koi': 120, 'Flowerhorn': 2500, 'Goldfish': 400}]\n",
      "PARROT\n",
      "[{'Macaw': 200000, 'Cockateil': 6500, 'Green Parrot': 8500, 'African Parrot': 45000}]\n"
     ]
    }
   ],
   "source": [
    "for key in pets:\n",
    "    print(key)\n",
    "    print(pets[key])"
   ]
  },
  {
   "cell_type": "code",
   "execution_count": 10,
   "metadata": {},
   "outputs": [
    {
     "data": {
      "text/plain": [
       "[{'Labrador': 10000, 'Rotweiller': 20000, 'Doberman': 30000, 'Pitbull': 40000}]"
      ]
     },
     "execution_count": 10,
     "metadata": {},
     "output_type": "execute_result"
    }
   ],
   "source": [
    "pets['DOGS']"
   ]
  },
  {
   "cell_type": "code",
   "execution_count": 12,
   "metadata": {},
   "outputs": [
    {
     "name": "stdout",
     "output_type": "stream",
     "text": [
      "{'Labrador': 10000, 'Rotweiller': 20000, 'Doberman': 30000, 'Pitbull': 40000}\n",
      "Labrador\n",
      "Rotweiller\n",
      "Doberman\n",
      "Pitbull\n"
     ]
    }
   ],
   "source": [
    "for item in pets['DOGS']:\n",
    "    print(item)\n",
    "    for key in item:\n",
    "        print(key)"
   ]
  },
  {
   "cell_type": "code",
   "execution_count": 21,
   "metadata": {},
   "outputs": [
    {
     "ename": "AttributeError",
     "evalue": "'dict' object has no attribute 'append'",
     "output_type": "error",
     "traceback": [
      "\u001b[1;31m---------------------------------------------------------------------------\u001b[0m",
      "\u001b[1;31mAttributeError\u001b[0m                            Traceback (most recent call last)",
      "\u001b[1;32mc:\\Users\\vikas\\OneDrive\\Desktop\\PYTHON\\basics.ipynb\\basics2.ipynb Cell 9\u001b[0m line \u001b[0;36m2\n\u001b[0;32m      <a href='vscode-notebook-cell:/c%3A/Users/vikas/OneDrive/Desktop/PYTHON/basics.ipynb/basics2.ipynb#X11sZmlsZQ%3D%3D?line=0'>1</a>\u001b[0m name\u001b[39m=\u001b[39m {\u001b[39m\"\u001b[39m\u001b[39mHorse\u001b[39m\u001b[39m\"\u001b[39m: [{\u001b[39m\"\u001b[39m\u001b[39mBlack Horse\u001b[39m\u001b[39m\"\u001b[39m : \u001b[39m4002456\u001b[39m,\u001b[39m\"\u001b[39m\u001b[39mWhite Horse\u001b[39m\u001b[39m\"\u001b[39m : \u001b[39m4561444\u001b[39m, \u001b[39m\"\u001b[39m\u001b[39mGrey Horse\u001b[39m\u001b[39m\"\u001b[39m : \u001b[39m5020010\u001b[39m, \u001b[39m\"\u001b[39m\u001b[39mBrown Horse\u001b[39m\u001b[39m\"\u001b[39m : \u001b[39m7800141\u001b[39m}]}\n\u001b[1;32m----> <a href='vscode-notebook-cell:/c%3A/Users/vikas/OneDrive/Desktop/PYTHON/basics.ipynb/basics2.ipynb#X11sZmlsZQ%3D%3D?line=1'>2</a>\u001b[0m name\u001b[39m.\u001b[39;49mappend(pets)\n\u001b[0;32m      <a href='vscode-notebook-cell:/c%3A/Users/vikas/OneDrive/Desktop/PYTHON/basics.ipynb/basics2.ipynb#X11sZmlsZQ%3D%3D?line=2'>3</a>\u001b[0m \u001b[39mprint\u001b[39m(pets)\n",
      "\u001b[1;31mAttributeError\u001b[0m: 'dict' object has no attribute 'append'"
     ]
    }
   ],
   "source": []
  }
 ],
 "metadata": {
  "kernelspec": {
   "display_name": "Python 3",
   "language": "python",
   "name": "python3"
  },
  "language_info": {
   "codemirror_mode": {
    "name": "ipython",
    "version": 3
   },
   "file_extension": ".py",
   "mimetype": "text/x-python",
   "name": "python",
   "nbconvert_exporter": "python",
   "pygments_lexer": "ipython3",
   "version": "3.11.4"
  },
  "orig_nbformat": 4
 },
 "nbformat": 4,
 "nbformat_minor": 2
}
