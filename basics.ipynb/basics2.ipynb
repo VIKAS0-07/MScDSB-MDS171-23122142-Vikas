{
 "cells": [
  {
   "cell_type": "code",
   "execution_count": 1,
   "metadata": {},
   "outputs": [
    {
     "name": "stdout",
     "output_type": "stream",
     "text": [
      "Menu Options\n",
      "1. Enter Student Info\n",
      "2. List Students\n",
      "3. Exit\n"
     ]
    }
   ],
   "source": [
    "studentDict = {}\n",
    "\n",
    "def createStudent(name,regno,email,phone):\n",
    "    student = {\n",
    "        \"Name\": name,\n",
    "        \"Email\": email,\n",
    "        \"Phone\": phone\n",
    "    }\n",
    "\n",
    "    studentDict[regno] = student\n",
    "\n",
    "def collectStudentInfo():\n",
    "    name = input(\"Enter Student Name: \")\n",
    "    regno = input(\"Enter Student regno: \")\n",
    "    email = input(\"Enter Student Email: \")\n",
    "    phone = input(\"Enter Student Phone: \")\n",
    "    return name, regno, email, phone\n",
    "\n",
    "def printStudents():\n",
    "    print(\"Regno\\tName\\tEmail\\tPhone\")\n",
    "    for regno in studentDict.keys():\n",
    "        print(regno,end=\"\\t\")\n",
    "        for key in studentDict[regno]:\n",
    "            print(studentDict[regno][key],end='\\t')\n",
    "        print()\n",
    "\n",
    "while True:\n",
    "    print(\"Menu Options\")\n",
    "    print(\"1. Enter Student Info\")\n",
    "    print(\"2. List Students\")\n",
    "    print(\"3. Exit\")\n",
    "\n",
    "    choice = input(\"Enter the choice\").strip()\n",
    "    if choice == \"1\":\n",
    "        name, regno, email, phone = collectStudentInfo()\n",
    "        createStudent(name, regno, email, phone)\n",
    "    elif choice == \"2\":\n",
    "        printStudents()\n",
    "    elif choice == \"3\":\n",
    "        exit()\n",
    "    else:\n",
    "        print(\"Invalid Choice\")\n",
    "    "
   ]
  },
  {
   "cell_type": "code",
   "execution_count": 5,
   "metadata": {},
   "outputs": [
    {
     "name": "stdout",
     "output_type": "stream",
     "text": [
      "None\n"
     ]
    }
   ],
   "source": [
    "a=input([])\n",
    "b=[]\n",
    "a=a.split(\",\")\n",
    "b.append(a)\n",
    "print(b)\n",
    "\n",
    "\n",
    "\n",
    "\n",
    "\n"
   ]
  },
  {
   "cell_type": "code",
   "execution_count": null,
   "metadata": {},
   "outputs": [],
   "source": []
  }
 ],
 "metadata": {
  "kernelspec": {
   "display_name": "Python 3",
   "language": "python",
   "name": "python3"
  },
  "language_info": {
   "codemirror_mode": {
    "name": "ipython",
    "version": 3
   },
   "file_extension": ".py",
   "mimetype": "text/x-python",
   "name": "python",
   "nbconvert_exporter": "python",
   "pygments_lexer": "ipython3",
   "version": "3.11.4"
  },
  "orig_nbformat": 4
 },
 "nbformat": 4,
 "nbformat_minor": 2
}
