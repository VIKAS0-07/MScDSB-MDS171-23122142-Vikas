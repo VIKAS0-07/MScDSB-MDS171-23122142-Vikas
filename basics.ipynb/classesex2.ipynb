{
 "cells": [
  {
   "cell_type": "code",
   "execution_count": 18,
   "metadata": {},
   "outputs": [
    {
     "name": "stdout",
     "output_type": "stream",
     "text": [
      "******************************\n",
      "The current options in the menu are:\n",
      "******************************\n",
      "{'rice': 30, 'idli': 10}\n",
      "******************************\n"
     ]
    },
    {
     "ename": "ValueError",
     "evalue": "invalid literal for int() with base 10: ''",
     "output_type": "error",
     "traceback": [
      "\u001b[1;31m---------------------------------------------------------------------------\u001b[0m",
      "\u001b[1;31mValueError\u001b[0m                                Traceback (most recent call last)",
      "\u001b[1;32mc:\\Users\\vikas\\OneDrive\\Desktop\\PYTHON\\basics.ipynb\\classesex2.ipynb Cell 1\u001b[0m line \u001b[0;36m6\n\u001b[0;32m     <a href='vscode-notebook-cell:/c%3A/Users/vikas/OneDrive/Desktop/PYTHON/basics.ipynb/classesex2.ipynb#W0sZmlsZQ%3D%3D?line=59'>60</a>\u001b[0m         \u001b[39mprint\u001b[39m(\u001b[39mself\u001b[39m\u001b[39m.\u001b[39mtotal_bill)\n\u001b[0;32m     <a href='vscode-notebook-cell:/c%3A/Users/vikas/OneDrive/Desktop/PYTHON/basics.ipynb/classesex2.ipynb#W0sZmlsZQ%3D%3D?line=62'>63</a>\u001b[0m cook\u001b[39m=\u001b[39mrestaurant()\n\u001b[1;32m---> <a href='vscode-notebook-cell:/c%3A/Users/vikas/OneDrive/Desktop/PYTHON/basics.ipynb/classesex2.ipynb#W0sZmlsZQ%3D%3D?line=63'>64</a>\u001b[0m cook\u001b[39m.\u001b[39;49mcollect_order()\n\u001b[0;32m     <a href='vscode-notebook-cell:/c%3A/Users/vikas/OneDrive/Desktop/PYTHON/basics.ipynb/classesex2.ipynb#W0sZmlsZQ%3D%3D?line=64'>65</a>\u001b[0m cook\u001b[39m.\u001b[39mbilling()\n",
      "\u001b[1;32mc:\\Users\\vikas\\OneDrive\\Desktop\\PYTHON\\basics.ipynb\\classesex2.ipynb Cell 1\u001b[0m line \u001b[0;36m4\n\u001b[0;32m     <a href='vscode-notebook-cell:/c%3A/Users/vikas/OneDrive/Desktop/PYTHON/basics.ipynb/classesex2.ipynb#W0sZmlsZQ%3D%3D?line=37'>38</a>\u001b[0m \u001b[39mwhile\u001b[39;00m \u001b[39mTrue\u001b[39;00m:\n\u001b[0;32m     <a href='vscode-notebook-cell:/c%3A/Users/vikas/OneDrive/Desktop/PYTHON/basics.ipynb/classesex2.ipynb#W0sZmlsZQ%3D%3D?line=38'>39</a>\u001b[0m     item\u001b[39m=\u001b[39m\u001b[39minput\u001b[39m(\u001b[39m\"\u001b[39m\u001b[39mEnter the item name you want to order:\u001b[39m\u001b[39m\"\u001b[39m)\u001b[39m.\u001b[39mstrip()\u001b[39m.\u001b[39mtitle()\n\u001b[1;32m---> <a href='vscode-notebook-cell:/c%3A/Users/vikas/OneDrive/Desktop/PYTHON/basics.ipynb/classesex2.ipynb#W0sZmlsZQ%3D%3D?line=39'>40</a>\u001b[0m     qty\u001b[39m=\u001b[39m\u001b[39mint\u001b[39;49m(\u001b[39minput\u001b[39;49m(\u001b[39m\"\u001b[39;49m\u001b[39mEnter the quantity of the item:\u001b[39;49m\u001b[39m\"\u001b[39;49m))\n\u001b[0;32m     <a href='vscode-notebook-cell:/c%3A/Users/vikas/OneDrive/Desktop/PYTHON/basics.ipynb/classesex2.ipynb#W0sZmlsZQ%3D%3D?line=40'>41</a>\u001b[0m     order[item] \u001b[39m=\u001b[39m qty\n\u001b[0;32m     <a href='vscode-notebook-cell:/c%3A/Users/vikas/OneDrive/Desktop/PYTHON/basics.ipynb/classesex2.ipynb#W0sZmlsZQ%3D%3D?line=41'>42</a>\u001b[0m     choice\u001b[39m=\u001b[39m\u001b[39minput\u001b[39m(\u001b[39m\"\u001b[39m\u001b[39mDo you want to complete the order? \u001b[39m\u001b[39m'\u001b[39m\u001b[39mY\u001b[39m\u001b[39m'\u001b[39m\u001b[39m \u001b[39m\u001b[39m\"\u001b[39m)\u001b[39m.\u001b[39mstrip()\u001b[39m.\u001b[39mupper()\n",
      "\u001b[1;31mValueError\u001b[0m: invalid literal for int() with base 10: ''"
     ]
    }
   ],
   "source": [
    "#restaurant\n",
    "#customers -> orders (MENU ITEMS)\n",
    "#collecting orders\n",
    "#billing\n",
    "#print bill\n",
    "#update order\n",
    "#search for an order\n",
    "\n",
    "\n",
    "import random\n",
    "\n",
    "class restaurant:\n",
    "    def __init__(self):\n",
    "        self.menu = {\n",
    "            \"rice\":30,\n",
    "            \"idli\":10,\n",
    "        }\n",
    "        #orderid: (set of order details)\n",
    "        self.orders = {}\n",
    "\n",
    "    def print_menu(self):\n",
    "        print(\"*\"*30)\n",
    "        print(\"The current options in the menu are:\")\n",
    "        print(\"*\"*30)\n",
    "        print(self.menu)\n",
    "        print(\"*\"*30) \n",
    "\n",
    "    def generate_Order_id(self):\n",
    "        orderid= \"\"\n",
    "        for i in range(1,6,1):\n",
    "            orderid+=str(random.randint(1,10))\n",
    "        return orderid\n",
    "\n",
    "    def collect_order(self):\n",
    "        self.print_menu()\n",
    "        phone=int(input(\"Enter customer phone number:\"))\n",
    "        order={}\n",
    "        while True:\n",
    "            item=input(\"Enter the item name you want to order:\").strip().title()\n",
    "            qty=int(input(\"Enter the quantity of the item:\"))\n",
    "            order[item] = qty\n",
    "            choice=input(\"Do you want to complete the order? 'Y' \").strip().upper()\n",
    "            if choice=='Y':\n",
    "                break\n",
    "        orderid=self.generate_Order_id()\n",
    "        self.orders[orderid] = {\n",
    "            \"Phone\" : phone,\n",
    "            \"Order\" : order,\n",
    "        } \n",
    "        print(self.orders)\n",
    "\n",
    "    def billing(self):\n",
    "        self.total_bill=0\n",
    "        self.orders = {'94352': {'Phone': 4864185641, 'Order': {'Rice': 10, 'Idli': 5}}}\n",
    "        self.menu = {\n",
    "            \"rice\":30,\n",
    "            \"idli\":10,\n",
    "        }\n",
    "        self.total_bill=self.menu.keys() * self.orders\n",
    "        print(self.total_bill)\n",
    "\n",
    "\n",
    "cook=restaurant()\n",
    "cook.collect_order()\n",
    "cook.billing()\n",
    "\n",
    "\n"
   ]
  },
  {
   "cell_type": "code",
   "execution_count": 19,
   "metadata": {},
   "outputs": [
    {
     "ename": "TypeError",
     "evalue": "unsupported operand type(s) for *: 'dict_keys' and 'dict'",
     "output_type": "error",
     "traceback": [
      "\u001b[1;31m---------------------------------------------------------------------------\u001b[0m",
      "\u001b[1;31mTypeError\u001b[0m                                 Traceback (most recent call last)",
      "\u001b[1;32mc:\\Users\\vikas\\OneDrive\\Desktop\\PYTHON\\basics.ipynb\\classesex2.ipynb Cell 2\u001b[0m line \u001b[0;36m1\n\u001b[0;32m     <a href='vscode-notebook-cell:/c%3A/Users/vikas/OneDrive/Desktop/PYTHON/basics.ipynb/classesex2.ipynb#W1sZmlsZQ%3D%3D?line=12'>13</a>\u001b[0m         \u001b[39mprint\u001b[39m(\u001b[39mself\u001b[39m\u001b[39m.\u001b[39mtotal_bill)\n\u001b[0;32m     <a href='vscode-notebook-cell:/c%3A/Users/vikas/OneDrive/Desktop/PYTHON/basics.ipynb/classesex2.ipynb#W1sZmlsZQ%3D%3D?line=14'>15</a>\u001b[0m cook2\u001b[39m=\u001b[39mrestaurant2()\n\u001b[1;32m---> <a href='vscode-notebook-cell:/c%3A/Users/vikas/OneDrive/Desktop/PYTHON/basics.ipynb/classesex2.ipynb#W1sZmlsZQ%3D%3D?line=15'>16</a>\u001b[0m cook2\u001b[39m.\u001b[39;49mbilling()\n",
      "\u001b[1;32mc:\\Users\\vikas\\OneDrive\\Desktop\\PYTHON\\basics.ipynb\\classesex2.ipynb Cell 2\u001b[0m line \u001b[0;36m1\n\u001b[0;32m      <a href='vscode-notebook-cell:/c%3A/Users/vikas/OneDrive/Desktop/PYTHON/basics.ipynb/classesex2.ipynb#W1sZmlsZQ%3D%3D?line=6'>7</a>\u001b[0m \u001b[39mself\u001b[39m\u001b[39m.\u001b[39morders \u001b[39m=\u001b[39m {\u001b[39m'\u001b[39m\u001b[39m94352\u001b[39m\u001b[39m'\u001b[39m: {\u001b[39m'\u001b[39m\u001b[39mPhone\u001b[39m\u001b[39m'\u001b[39m: \u001b[39m4864185641\u001b[39m, \u001b[39m'\u001b[39m\u001b[39mOrder\u001b[39m\u001b[39m'\u001b[39m: {\u001b[39m'\u001b[39m\u001b[39mRice\u001b[39m\u001b[39m'\u001b[39m: \u001b[39m10\u001b[39m, \u001b[39m'\u001b[39m\u001b[39mIdli\u001b[39m\u001b[39m'\u001b[39m: \u001b[39m5\u001b[39m}}}\n\u001b[0;32m      <a href='vscode-notebook-cell:/c%3A/Users/vikas/OneDrive/Desktop/PYTHON/basics.ipynb/classesex2.ipynb#W1sZmlsZQ%3D%3D?line=7'>8</a>\u001b[0m \u001b[39mself\u001b[39m\u001b[39m.\u001b[39mmenu \u001b[39m=\u001b[39m {\n\u001b[0;32m      <a href='vscode-notebook-cell:/c%3A/Users/vikas/OneDrive/Desktop/PYTHON/basics.ipynb/classesex2.ipynb#W1sZmlsZQ%3D%3D?line=8'>9</a>\u001b[0m     \u001b[39m\"\u001b[39m\u001b[39mrice\u001b[39m\u001b[39m\"\u001b[39m:\u001b[39m30\u001b[39m,\n\u001b[0;32m     <a href='vscode-notebook-cell:/c%3A/Users/vikas/OneDrive/Desktop/PYTHON/basics.ipynb/classesex2.ipynb#W1sZmlsZQ%3D%3D?line=9'>10</a>\u001b[0m     \u001b[39m\"\u001b[39m\u001b[39midli\u001b[39m\u001b[39m\"\u001b[39m:\u001b[39m10\u001b[39m,\n\u001b[0;32m     <a href='vscode-notebook-cell:/c%3A/Users/vikas/OneDrive/Desktop/PYTHON/basics.ipynb/classesex2.ipynb#W1sZmlsZQ%3D%3D?line=10'>11</a>\u001b[0m }\n\u001b[1;32m---> <a href='vscode-notebook-cell:/c%3A/Users/vikas/OneDrive/Desktop/PYTHON/basics.ipynb/classesex2.ipynb#W1sZmlsZQ%3D%3D?line=11'>12</a>\u001b[0m \u001b[39mself\u001b[39m\u001b[39m.\u001b[39mtotal_bill\u001b[39m=\u001b[39m\u001b[39mself\u001b[39;49m\u001b[39m.\u001b[39;49mmenu\u001b[39m.\u001b[39;49mkeys() \u001b[39m*\u001b[39;49m \u001b[39mself\u001b[39;49m\u001b[39m.\u001b[39;49morders\n\u001b[0;32m     <a href='vscode-notebook-cell:/c%3A/Users/vikas/OneDrive/Desktop/PYTHON/basics.ipynb/classesex2.ipynb#W1sZmlsZQ%3D%3D?line=12'>13</a>\u001b[0m \u001b[39mprint\u001b[39m(\u001b[39mself\u001b[39m\u001b[39m.\u001b[39mtotal_bill)\n",
      "\u001b[1;31mTypeError\u001b[0m: unsupported operand type(s) for *: 'dict_keys' and 'dict'"
     ]
    }
   ],
   "source": [
    "class restaurant2:\n",
    "    def __init__(self):\n",
    "        pass\n",
    "    \n",
    "    def billing(self):\n",
    "        self.total_bill=0\n",
    "        self.orders = {'94352': {'Phone': 4864185641, 'Order': {'Rice': 10, 'Idli': 5}}}\n",
    "        self.menu = {\n",
    "            \"rice\":30,\n",
    "            \"idli\":10,\n",
    "        }\n",
    "        self.total_bill=self.menu.keys() * self.orders\n",
    "        print(self.total_bill)\n",
    "\n",
    "cook2=restaurant2()\n",
    "cook2.billing()"
   ]
  },
  {
   "cell_type": "code",
   "execution_count": null,
   "metadata": {},
   "outputs": [],
   "source": []
  }
 ],
 "metadata": {
  "kernelspec": {
   "display_name": "Python 3",
   "language": "python",
   "name": "python3"
  },
  "language_info": {
   "codemirror_mode": {
    "name": "ipython",
    "version": 3
   },
   "file_extension": ".py",
   "mimetype": "text/x-python",
   "name": "python",
   "nbconvert_exporter": "python",
   "pygments_lexer": "ipython3",
   "version": "3.11.4"
  }
 },
 "nbformat": 4,
 "nbformat_minor": 2
}
