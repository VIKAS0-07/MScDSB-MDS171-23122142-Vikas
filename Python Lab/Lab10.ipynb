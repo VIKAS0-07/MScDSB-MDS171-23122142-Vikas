{
 "cells": [
  {
   "cell_type": "code",
   "execution_count": 20,
   "metadata": {},
   "outputs": [
    {
     "name": "stdout",
     "output_type": "stream",
     "text": [
      "{'Details': [{'Name': 'Britto', 'Register Number': 12, 'Course': 'MSCDS', 'Marks': '69,69,69,69', 'Grade': 'A'}]}\n",
      "69,6\n"
     ]
    }
   ],
   "source": [
    "class student:\n",
    "    def __init__(self):\n",
    "        self.mydict={\n",
    "            \"Details\" : []\n",
    "        }\n",
    "\n",
    "    def user_input(self):\n",
    "            dict={\n",
    "                \"Name\" : [],\n",
    "                \"Register Number\" : [],\n",
    "                \"Course\" : [],\n",
    "                \"Marks\" : [],\n",
    "                \"Grade\" : []\n",
    "                }\n",
    "            name=input(\"Enter the name of the student:\")\n",
    "            reg_no=int(input(\"Enter the register nuimber of the student:\"))\n",
    "            course=input(\"Enter the course name of the student:\")\n",
    "            marks=input(\"Enter the marks of 4 subjects\")\n",
    "            grade=input(\"Enter the grade of the student\")\n",
    "            dict[\"Name\"]=name\n",
    "            dict[\"Register Number\"]=reg_no\n",
    "            dict[\"Course\"]=course\n",
    "            dict[\"Marks\"]=marks\n",
    "            dict[\"Grade\"]=grade\n",
    "            self.mydict[\"Details\"].append(dict)\n",
    "            print(self.mydict)\n",
    "\n",
    "    def average(self):\n",
    "         a=self.mydict[\"Details\"][0][\"Marks\"]\n",
    "         \n",
    "          \n",
    "         \n",
    "    \n",
    "stdt=student()\n",
    "stdt.user_input()\n",
    "stdt.average()\n",
    "\n",
    "\n"
   ]
  },
  {
   "cell_type": "code",
   "execution_count": null,
   "metadata": {},
   "outputs": [],
   "source": []
  }
 ],
 "metadata": {
  "kernelspec": {
   "display_name": "Python 3",
   "language": "python",
   "name": "python3"
  },
  "language_info": {
   "codemirror_mode": {
    "name": "ipython",
    "version": 3
   },
   "file_extension": ".py",
   "mimetype": "text/x-python",
   "name": "python",
   "nbconvert_exporter": "python",
   "pygments_lexer": "ipython3",
   "version": "3.11.4"
  }
 },
 "nbformat": 4,
 "nbformat_minor": 2
}
