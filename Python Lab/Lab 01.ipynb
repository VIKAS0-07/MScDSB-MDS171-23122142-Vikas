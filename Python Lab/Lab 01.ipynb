{
 "cells": [
  {
   "cell_type": "code",
   "execution_count": 2,
   "metadata": {},
   "outputs": [
    {
     "name": "stdout",
     "output_type": "stream",
     "text": [
      "VikasVikasVikasVikasVikasVikasVikasVikas\n"
     ]
    }
   ],
   "source": [
    "name=str(input(\"Enter your name:\"))\n",
    "n=int(input(\"Enter the number of times:\"))\n",
    "output=name*n\n",
    "print(output)\n"
   ]
  },
  {
   "cell_type": "code",
   "execution_count": 10,
   "metadata": {},
   "outputs": [
    {
     "name": "stdout",
     "output_type": "stream",
     "text": [
      "vikas\n",
      "vikas\n",
      "vikas\n",
      "vikas\n",
      "vikas\n",
      "vikas\n",
      "vikas\n",
      "vikas\n",
      "vikas\n",
      "vikas\n",
      "\n"
     ]
    }
   ],
   "source": [
    "Name=str(input(\"Enter your Name:\" ))\n",
    "n=int(input(\"Enter the number of times:\"))\n",
    "#We are assighning the name and the number of times to print to output\n",
    "output=(Name+\"\\n\")*n\n",
    "print(output)"
   ]
  },
  {
   "cell_type": "code",
   "execution_count": 1,
   "metadata": {},
   "outputs": [
    {
     "name": "stdout",
     "output_type": "stream",
     "text": [
      "The value of a is 5\n"
     ]
    }
   ],
   "source": [
    "a=5\n",
    "if a==5:\n",
    "    print(\"The value of a is 5\")\n",
    "else:\n",
    "    print(\"The value of a is not 5\")\n"
   ]
  },
  {
   "cell_type": "code",
   "execution_count": 13,
   "metadata": {},
   "outputs": [],
   "source": [
    "a=int(input(\"Enter a number:\"))\n",
    "if a==1:\n",
    "    print(\"Sunday\")\n",
    "elif a==2:\n",
    "    print(\"Monday\")\n",
    "elif a==3:\n",
    "    print(\"Tuesday\")\n",
    "elif a==4:\n",
    "    print(\"Wednesday\")\n",
    "elif a==5:\n",
    "    print(\"Thursday\")\n",
    "elif a==6:\n",
    "    print(\"Friday\")\n",
    "elif a==7:\n",
    "    print(\"Saturday\")\n",
    "elif a>7&a<1:\n",
    "    print(\"There are only 7 days in a week\")"
   ]
  },
  {
   "cell_type": "code",
   "execution_count": 15,
   "metadata": {},
   "outputs": [
    {
     "name": "stdout",
     "output_type": "stream",
     "text": [
      "14\n",
      "11\n"
     ]
    }
   ],
   "source": [
    "print(len(\"This is a name\"))\n",
    "print(len(\"Vikas Kumar\"))"
   ]
  },
  {
   "cell_type": "code",
   "execution_count": 19,
   "metadata": {},
   "outputs": [
    {
     "name": "stdout",
     "output_type": "stream",
     "text": [
      "This is a message\n",
      "This is a message\n",
      "This is a message\n",
      "This is a message\n",
      "This is a message\n"
     ]
    }
   ],
   "source": [
    "for a in range(5):\n",
    "    print(\"This is a message\")"
   ]
  },
  {
   "cell_type": "code",
   "execution_count": 21,
   "metadata": {},
   "outputs": [
    {
     "name": "stdout",
     "output_type": "stream",
     "text": [
      "<class 'str'>\n",
      "16\n",
      "6\n"
     ]
    }
   ],
   "source": [
    "name=\"     Raiden     \"\n",
    "print(type(name))\n",
    "print(len(name))\n",
    "print(len(name.strip()))"
   ]
  },
  {
   "cell_type": "code",
   "execution_count": 28,
   "metadata": {},
   "outputs": [
    {
     "name": "stdout",
     "output_type": "stream",
     "text": [
      "['2', '3', '4', '5', '6', '8']\n",
      "2 <class 'str'> 2 <class 'int'>\n",
      "3 <class 'str'> 3 <class 'int'>\n",
      "4 <class 'str'> 4 <class 'int'>\n",
      "5 <class 'str'> 5 <class 'int'>\n",
      "6 <class 'str'> 6 <class 'int'>\n",
      "8 <class 'str'> 8 <class 'int'>\n",
      "28\n"
     ]
    }
   ],
   "source": [
    "numbers = \"2,3,4,5,6,8\"\n",
    "nos = numbers.split(',')\n",
    "print (nos)\n",
    "sum=0\n",
    "for item in nos:\n",
    "    temp=int(item)\n",
    "    sum=sum+temp\n",
    "    print(item,type(item),temp,type(temp))\n",
    "print(sum)"
   ]
  },
  {
   "cell_type": "code",
   "execution_count": 31,
   "metadata": {},
   "outputs": [
    {
     "name": "stdout",
     "output_type": "stream",
     "text": [
      "Your username:Vikas and password entered is: 123456\n"
     ]
    }
   ],
   "source": [
    "name=input(\"Enter username: \")\n",
    "password=input(\"Enter the password\")\n",
    "print(\"Your username:{} and password entered is: {}\".format(name,password))"
   ]
  },
  {
   "cell_type": "code",
   "execution_count": 32,
   "metadata": {},
   "outputs": [
    {
     "name": "stdout",
     "output_type": "stream",
     "text": [
      "10\n",
      "11\n",
      "12\n",
      "13\n",
      "14\n",
      "15\n",
      "16\n",
      "17\n",
      "18\n",
      "19\n"
     ]
    }
   ],
   "source": [
    "#find the sum of n multiples of 2 where n is user input\n",
    "\n",
    "for i in range(10,20,1):\n",
    "    print(i)\n",
    "    "
   ]
  },
  {
   "cell_type": "code",
   "execution_count": 1,
   "metadata": {},
   "outputs": [
    {
     "name": "stdout",
     "output_type": "stream",
     "text": [
      "['one', 'two', 'three', 'four']\n"
     ]
    }
   ],
   "source": [
    "listex=[\"one\",\"two\",\"three\",\"four\"]\n",
    "print(listex)"
   ]
  },
  {
   "cell_type": "code",
   "execution_count": 4,
   "metadata": {},
   "outputs": [
    {
     "name": "stdout",
     "output_type": "stream",
     "text": [
      "three\n"
     ]
    }
   ],
   "source": [
    "print(listex[2])"
   ]
  },
  {
   "cell_type": "code",
   "execution_count": 8,
   "metadata": {},
   "outputs": [
    {
     "name": "stdout",
     "output_type": "stream",
     "text": [
      "Success\n"
     ]
    }
   ],
   "source": [
    "if \"one\" in listex:\n",
    "    print(\"Success\")"
   ]
  },
  {
   "cell_type": "code",
   "execution_count": 9,
   "metadata": {},
   "outputs": [
    {
     "name": "stdout",
     "output_type": "stream",
     "text": [
      "['one', 'two', 'three', 'four', 'five']\n"
     ]
    }
   ],
   "source": [
    "listex.append(\"five\")\n",
    "print(listex)"
   ]
  },
  {
   "cell_type": "code",
   "execution_count": 15,
   "metadata": {},
   "outputs": [
    {
     "data": {
      "text/plain": [
       "'one'"
      ]
     },
     "execution_count": 15,
     "metadata": {},
     "output_type": "execute_result"
    }
   ],
   "source": [
    "listex.pop()\n"
   ]
  },
  {
   "cell_type": "code",
   "execution_count": 23,
   "metadata": {},
   "outputs": [],
   "source": [
    "listex.append(\"one\")\n",
    "listex.append(\"two\")\n"
   ]
  },
  {
   "cell_type": "code",
   "execution_count": 24,
   "metadata": {},
   "outputs": [
    {
     "data": {
      "text/plain": [
       "['three', 'one', 'one', 'two']"
      ]
     },
     "execution_count": 24,
     "metadata": {},
     "output_type": "execute_result"
    }
   ],
   "source": [
    "listex"
   ]
  }
 ],
 "metadata": {
  "kernelspec": {
   "display_name": "Python 3",
   "language": "python",
   "name": "python3"
  },
  "language_info": {
   "codemirror_mode": {
    "name": "ipython",
    "version": 3
   },
   "file_extension": ".py",
   "mimetype": "text/x-python",
   "name": "python",
   "nbconvert_exporter": "python",
   "pygments_lexer": "ipython3",
   "version": "3.11.4"
  },
  "orig_nbformat": 4
 },
 "nbformat": 4,
 "nbformat_minor": 2
}
