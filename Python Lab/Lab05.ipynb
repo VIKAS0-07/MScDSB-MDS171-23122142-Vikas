{
 "cells": [
  {
   "cell_type": "markdown",
   "metadata": {},
   "source": [
    "Write a program for collecting a string from the user and counting the number of vowels.\n",
    "\n",
    "Print the total count of vowels\n",
    "Print each vowel and its count\n",
    "Calculate the percentage of vowels in the given string"
   ]
  },
  {
   "cell_type": "code",
   "execution_count": 40,
   "metadata": {},
   "outputs": [
    {
     "name": "stdout",
     "output_type": "stream",
     "text": [
      "Rahul\n",
      "Total number of vowels: 2\n",
      "Each vowel and its count:\n",
      "a: 1\n",
      "u: 1\n",
      "Percentage of vowels in the given string: 40.00%\n"
     ]
    }
   ],
   "source": [
    "#defining a function to count the strings\n",
    "def count_vow(string):\n",
    "    vowels = \"AEIOUaeiou\"\n",
    "    vow_count = {}.fromkeys(vowels, 0)\n",
    "    total_vow = 0\n",
    "    for char in string:\n",
    "        if char in vow_count:\n",
    "            vow_count[char] =vow_count[char]+ 1\n",
    "            total_vow=total_vow+1\n",
    "    return total_vow, vow_count\n",
    "str= input(\"Enter a string: \")      #Getting a string input from the user\n",
    "total_vow, vow_count = count_vow(str)\n",
    "print(str)\n",
    "print(\"Total number of vowels:\",total_vow)\n",
    "print(\"Each vowel and its count:\")\n",
    "for vowel, count in vow_count.items():\n",
    "    if count > 0:\n",
    "        print(f\"{vowel}: {count}\")\n",
    "\n",
    "percentage_vow=(total_vow / len(str)) * 100\n",
    "print(f\"Percentage of vowels in the given string: {percentage_vow:.2f}%\")\n",
    " "
   ]
  }
 ],
 "metadata": {
  "kernelspec": {
   "display_name": "Python 3",
   "language": "python",
   "name": "python3"
  },
  "language_info": {
   "codemirror_mode": {
    "name": "ipython",
    "version": 3
   },
   "file_extension": ".py",
   "mimetype": "text/x-python",
   "name": "python",
   "nbconvert_exporter": "python",
   "pygments_lexer": "ipython3",
   "version": "3.11.4"
  },
  "orig_nbformat": 4
 },
 "nbformat": 4,
 "nbformat_minor": 2
}
