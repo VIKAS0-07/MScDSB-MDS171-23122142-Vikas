{
 "cells": [
  {
   "cell_type": "markdown",
   "metadata": {},
   "source": []
  },
  {
   "cell_type": "code",
   "execution_count": 1,
   "metadata": {},
   "outputs": [
    {
     "ename": "AttributeError",
     "evalue": "'petstore' object has no attribute 'pet'",
     "output_type": "error",
     "traceback": [
      "\u001b[1;31m---------------------------------------------------------------------------\u001b[0m",
      "\u001b[1;31mAttributeError\u001b[0m                            Traceback (most recent call last)",
      "\u001b[1;32mc:\\Users\\vikas\\OneDrive\\Desktop\\PYTHON\\MScDSB-MDS171-23122142-Vikas\\Lab09.ipynb Cell 2\u001b[0m line \u001b[0;36m6\n\u001b[0;32m     <a href='vscode-notebook-cell:/c%3A/Users/vikas/OneDrive/Desktop/PYTHON/MScDSB-MDS171-23122142-Vikas/Lab09.ipynb#W1sZmlsZQ%3D%3D?line=59'>60</a>\u001b[0m         \u001b[39mprint\u001b[39m(my_dict)\n\u001b[0;32m     <a href='vscode-notebook-cell:/c%3A/Users/vikas/OneDrive/Desktop/PYTHON/MScDSB-MDS171-23122142-Vikas/Lab09.ipynb#W1sZmlsZQ%3D%3D?line=63'>64</a>\u001b[0m a \u001b[39m=\u001b[39m petstore()\n\u001b[1;32m---> <a href='vscode-notebook-cell:/c%3A/Users/vikas/OneDrive/Desktop/PYTHON/MScDSB-MDS171-23122142-Vikas/Lab09.ipynb#W1sZmlsZQ%3D%3D?line=64'>65</a>\u001b[0m a\u001b[39m.\u001b[39;49mdisplay()\n\u001b[0;32m     <a href='vscode-notebook-cell:/c%3A/Users/vikas/OneDrive/Desktop/PYTHON/MScDSB-MDS171-23122142-Vikas/Lab09.ipynb#W1sZmlsZQ%3D%3D?line=65'>66</a>\u001b[0m a\u001b[39m.\u001b[39msearch()\n\u001b[0;32m     <a href='vscode-notebook-cell:/c%3A/Users/vikas/OneDrive/Desktop/PYTHON/MScDSB-MDS171-23122142-Vikas/Lab09.ipynb#W1sZmlsZQ%3D%3D?line=66'>67</a>\u001b[0m a\u001b[39m.\u001b[39msell()\n",
      "\u001b[1;32mc:\\Users\\vikas\\OneDrive\\Desktop\\PYTHON\\MScDSB-MDS171-23122142-Vikas\\Lab09.ipynb Cell 2\u001b[0m line \u001b[0;36m1\n\u001b[0;32m     <a href='vscode-notebook-cell:/c%3A/Users/vikas/OneDrive/Desktop/PYTHON/MScDSB-MDS171-23122142-Vikas/Lab09.ipynb#W1sZmlsZQ%3D%3D?line=17'>18</a>\u001b[0m \u001b[39mdef\u001b[39;00m \u001b[39mdisplay\u001b[39m(\u001b[39mself\u001b[39m):\n\u001b[1;32m---> <a href='vscode-notebook-cell:/c%3A/Users/vikas/OneDrive/Desktop/PYTHON/MScDSB-MDS171-23122142-Vikas/Lab09.ipynb#W1sZmlsZQ%3D%3D?line=18'>19</a>\u001b[0m     \u001b[39mfor\u001b[39;00m key, val \u001b[39min\u001b[39;00m \u001b[39mself\u001b[39;49m\u001b[39m.\u001b[39;49mpet\u001b[39m.\u001b[39mitems():\n\u001b[0;32m     <a href='vscode-notebook-cell:/c%3A/Users/vikas/OneDrive/Desktop/PYTHON/MScDSB-MDS171-23122142-Vikas/Lab09.ipynb#W1sZmlsZQ%3D%3D?line=19'>20</a>\u001b[0m         \u001b[39mfor\u001b[39;00m i \u001b[39min\u001b[39;00m val:\n\u001b[0;32m     <a href='vscode-notebook-cell:/c%3A/Users/vikas/OneDrive/Desktop/PYTHON/MScDSB-MDS171-23122142-Vikas/Lab09.ipynb#W1sZmlsZQ%3D%3D?line=20'>21</a>\u001b[0m             \u001b[39mprint\u001b[39m(\u001b[39m\"\u001b[39m\u001b[39m{}\u001b[39;00m\u001b[39m : \u001b[39m\u001b[39m{}\u001b[39;00m\u001b[39m\"\u001b[39m\u001b[39m.\u001b[39mformat(key, i))\n",
      "\u001b[1;31mAttributeError\u001b[0m: 'petstore' object has no attribute 'pet'"
     ]
    }
   ],
   "source": [
    "class petstore:\n",
    "    def _init_(self):\n",
    "        self.pet = {\n",
    "            \"DOGS\":[\n",
    "                {\"Pitbull\":\"Sold\",\n",
    "                 \"German\":\"Not sold\",\n",
    "                 \"Lab\":\"Sold\"}],\n",
    "            \"CATS\":[\n",
    "                {\"Abyssinian\":\"Sold\",\n",
    "                 \"American Bobtail\":\"Not Sold\",\n",
    "                 \"American Cu\":\"Sold\"}],\n",
    "            \"FISH\":[\n",
    "                {\"Koi\":\"Not Sold\",\n",
    "                 \"Fighter\":\"Not Sold\",\n",
    "                 \"Comet\":\"Not Sold\"}],\n",
    "        }\n",
    "\n",
    "    def display(self):\n",
    "        for key, val in self.pet.items():\n",
    "            for i in val:\n",
    "                print(\"{} : {}\".format(key, i))\n",
    "        print(\"---------------------------------------\")\n",
    "    \n",
    "    def sell(self):\n",
    "        flag =0\n",
    "        breed = input(\"Enter the pet you want to search - \")\n",
    "        name = input(\"Enter the name - \")\n",
    "        for value in self.pet[breed]:\n",
    "                for i in self.pet:\n",
    "                    if i == name:\n",
    "                        print(\"This breed is available \",name)\n",
    "                        flag = 1\n",
    "                if flag == 0:\n",
    "                    print(\"The breed is not available\")\n",
    "                if value == 'Sold':\n",
    "                    print(\"Not available for adoption\",end='')\n",
    "                    flag = 1\n",
    "                if flag == 0:\n",
    "                    print(\"Thank you for the adoption \\n\",end='')\n",
    "\n",
    "    def search(self):\n",
    "        flag =0\n",
    "        breed = input(\"Enter the pet you want to search - \")\n",
    "        name = input(\"Enter the name - \")\n",
    "        for item in self.pet[breed]:\n",
    "                for i in item:\n",
    "                    if i == name:\n",
    "                        print(\"This breed is available \",name)\n",
    "                        flag = 1\n",
    "                if flag == 0:\n",
    "                    print(\"The breed is not available\")\n",
    "\n",
    "\n",
    "    def store(self):\n",
    "        my_dict = {}\n",
    "        breed = input(\"Enter the breed - \")\n",
    "        sold = input(\"Sold or Not Sold - \")\n",
    "        my_dict['Breed']=breed\n",
    "        my_dict['Availabilty']=sold\n",
    "        print(my_dict)\n",
    "\n",
    "\n",
    "\n",
    "a = petstore()\n",
    "a.display()\n",
    "a.search()\n",
    "a.sell()\n",
    "a.store()"
   ]
  },
  {
   "cell_type": "code",
   "execution_count": null,
   "metadata": {},
   "outputs": [],
   "source": []
  }
 ],
 "metadata": {
  "kernelspec": {
   "display_name": "Python 3",
   "language": "python",
   "name": "python3"
  },
  "language_info": {
   "codemirror_mode": {
    "name": "ipython",
    "version": 3
   },
   "file_extension": ".py",
   "mimetype": "text/x-python",
   "name": "python",
   "nbconvert_exporter": "python",
   "pygments_lexer": "ipython3",
   "version": "3.11.4"
  }
 },
 "nbformat": 4,
 "nbformat_minor": 2
}
