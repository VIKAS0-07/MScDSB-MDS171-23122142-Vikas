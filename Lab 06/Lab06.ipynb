{
 "cells": [
  {
   "cell_type": "code",
   "execution_count": 4,
   "metadata": {},
   "outputs": [
    {
     "name": "stdout",
     "output_type": "stream",
     "text": [
      "Cranberry 4 40\n",
      " 160\n",
      "Strawberry 1 85\n",
      " 85\n",
      "Apple 3 55\n",
      " 165\n",
      "Pomogranette 2 65\n",
      " 130\n",
      "Orange 4 60\n",
      " 240\n",
      "Grapes 4 80\n",
      " 320\n",
      "Apple 3 50\n",
      " 150\n",
      "Pomogranette 8 50\n",
      " 400\n",
      "Watermelon 4 65\n",
      " 260\n",
      "Grapes 5 55\n",
      " 275\n",
      "Strawberry 1 55\n",
      " 55\n",
      "Pomogranette 3 40\n",
      " 120\n",
      "Pineapple 7 40\n",
      " 280\n",
      "Mango 2 70\n",
      " 140\n",
      "Orange 7 85\n",
      " 595\n"
     ]
    }
   ],
   "source": [
    "#Storing three lists of random values\n",
    "Fruits=[\"Apple\",\"Orange\",\"Grapes\",\"Watermelon\",\"Mango\",\"Litchie\",\"Cranberry\",\"Pineapple\",\"Pomogranette\",\"Strawberry\"]\n",
    "Quantity=[\"2\",\"4\",\"3\",\"5\",\"4\",\"1\",\"7\",\"8\",\"5\",\"6\"]\n",
    "Price=[\"45\",\"50\",\"40\",\"55\",\"60\",\"75\",\"65\",\"70\",\"80\",\"85\"]\n",
    "\n",
    "#Gtting random values from the list\n",
    "import random\n",
    "r1=random.randint(0,9)\n",
    "r2=random.randint(0,9)\n",
    "r3=random.randint(0,9)\n",
    "\n",
    "\n",
    "#Storing it in a csv file\n",
    "with open(\"23122142(2).csv\",\"a+\") as file:\n",
    "    for i in range(0,100,1):\n",
    "        r1=random.randint(0,9)\n",
    "        r2=random.randint(0,9)\n",
    "        r3=random.randint(0,9)\n",
    "        file.write(Fruits[r1]+\",\"+Quantity[r2]+\",\"+Price[r3]+\"\\n\")\n",
    "file.close()\n",
    "\n",
    "#We're defining a function to calculate the total cost\n",
    "def total_cost():\n",
    "    f=0\n",
    "    for i in open(\"23122142(2).csv\",\"r+\").readlines():\n",
    "        rv=i.split(\",\")\n",
    "        f=f+1\n",
    "        if f<=5 or f>=91:\n",
    "            print(rv[0],rv[1],rv[2],int(rv[1])*int(rv[2]))\n",
    "total_cost()\n",
    "\n",
    "\n",
    "        \n",
    "\n",
    "    "
   ]
  },
  {
   "cell_type": "code",
   "execution_count": 3,
   "metadata": {},
   "outputs": [],
   "source": [
    "file=open(\"23122142(2).csv\",\"w+\")\n",
    "file.close()"
   ]
  },
  {
   "cell_type": "code",
   "execution_count": 13,
   "metadata": {},
   "outputs": [
    {
     "ename": "TypeError",
     "evalue": "'<' not supported between instances of 'int' and 'str'",
     "output_type": "error",
     "traceback": [
      "\u001b[1;31m---------------------------------------------------------------------------\u001b[0m",
      "\u001b[1;31mTypeError\u001b[0m                                 Traceback (most recent call last)",
      "\u001b[1;32mc:\\Python programs\\MScDSB-MDS171-23122142-Vikas\\MScDSB-MDS171-23122142-Vikas\\Lab 06\\Lab06.ipynb Cell 3\u001b[0m line \u001b[0;36m1\n\u001b[0;32m      <a href='vscode-notebook-cell:/c%3A/Python%20programs/MScDSB-MDS171-23122142-Vikas/MScDSB-MDS171-23122142-Vikas/Lab%2006/Lab06.ipynb#W2sZmlsZQ%3D%3D?line=8'>9</a>\u001b[0m         maximum\u001b[39m=\u001b[39m\u001b[39mmax\u001b[39m(tc)\n\u001b[0;32m     <a href='vscode-notebook-cell:/c%3A/Python%20programs/MScDSB-MDS171-23122142-Vikas/MScDSB-MDS171-23122142-Vikas/Lab%2006/Lab06.ipynb#W2sZmlsZQ%3D%3D?line=9'>10</a>\u001b[0m         \u001b[39mprint\u001b[39m(maximum)\n\u001b[1;32m---> <a href='vscode-notebook-cell:/c%3A/Python%20programs/MScDSB-MDS171-23122142-Vikas/MScDSB-MDS171-23122142-Vikas/Lab%2006/Lab06.ipynb#W2sZmlsZQ%3D%3D?line=10'>11</a>\u001b[0m cost()\n",
      "\u001b[1;32mc:\\Python programs\\MScDSB-MDS171-23122142-Vikas\\MScDSB-MDS171-23122142-Vikas\\Lab 06\\Lab06.ipynb Cell 3\u001b[0m line \u001b[0;36m7\n\u001b[0;32m      <a href='vscode-notebook-cell:/c%3A/Python%20programs/MScDSB-MDS171-23122142-Vikas/MScDSB-MDS171-23122142-Vikas/Lab%2006/Lab06.ipynb#W2sZmlsZQ%3D%3D?line=4'>5</a>\u001b[0m s\u001b[39m=\u001b[39ms\u001b[39m+\u001b[39m\u001b[39m1\u001b[39m\n\u001b[0;32m      <a href='vscode-notebook-cell:/c%3A/Python%20programs/MScDSB-MDS171-23122142-Vikas/MScDSB-MDS171-23122142-Vikas/Lab%2006/Lab06.ipynb#W2sZmlsZQ%3D%3D?line=5'>6</a>\u001b[0m tc\u001b[39m=\u001b[39mrv[\u001b[39m1\u001b[39m],rv[\u001b[39m2\u001b[39m],\u001b[39mint\u001b[39m(rv[\u001b[39m1\u001b[39m])\u001b[39m*\u001b[39m\u001b[39mint\u001b[39m(rv[\u001b[39m2\u001b[39m])\n\u001b[1;32m----> <a href='vscode-notebook-cell:/c%3A/Python%20programs/MScDSB-MDS171-23122142-Vikas/MScDSB-MDS171-23122142-Vikas/Lab%2006/Lab06.ipynb#W2sZmlsZQ%3D%3D?line=6'>7</a>\u001b[0m minimum\u001b[39m=\u001b[39m\u001b[39mmin\u001b[39;49m(tc)\n\u001b[0;32m      <a href='vscode-notebook-cell:/c%3A/Python%20programs/MScDSB-MDS171-23122142-Vikas/MScDSB-MDS171-23122142-Vikas/Lab%2006/Lab06.ipynb#W2sZmlsZQ%3D%3D?line=7'>8</a>\u001b[0m \u001b[39mprint\u001b[39m (minimum)\n\u001b[0;32m      <a href='vscode-notebook-cell:/c%3A/Python%20programs/MScDSB-MDS171-23122142-Vikas/MScDSB-MDS171-23122142-Vikas/Lab%2006/Lab06.ipynb#W2sZmlsZQ%3D%3D?line=8'>9</a>\u001b[0m maximum\u001b[39m=\u001b[39m\u001b[39mmax\u001b[39m(tc)\n",
      "\u001b[1;31mTypeError\u001b[0m: '<' not supported between instances of 'int' and 'str'"
     ]
    }
   ],
   "source": [
    "def cost():\n",
    "    s=0\n",
    "    for item in open(\"23122142(2).csv\",\"r+\").readlines():\n",
    "        rv=item.split(\",\")\n",
    "        s=s+1\n",
    "        tc=rv[1],rv[2],int(rv[1])*int(rv[2])\n",
    "        minimum=min(tc)\n",
    "        print (minimum)\n",
    "        maximum=max(tc)\n",
    "        print(maximum)\n",
    "cost()\n",
    "\n"
   ]
  },
  {
   "cell_type": "code",
   "execution_count": null,
   "metadata": {},
   "outputs": [],
   "source": []
  }
 ],
 "metadata": {
  "kernelspec": {
   "display_name": "Python 3",
   "language": "python",
   "name": "python3"
  },
  "language_info": {
   "codemirror_mode": {
    "name": "ipython",
    "version": 3
   },
   "file_extension": ".py",
   "mimetype": "text/x-python",
   "name": "python",
   "nbconvert_exporter": "python",
   "pygments_lexer": "ipython3",
   "version": "3.11.4"
  },
  "orig_nbformat": 4
 },
 "nbformat": 4,
 "nbformat_minor": 2
}
