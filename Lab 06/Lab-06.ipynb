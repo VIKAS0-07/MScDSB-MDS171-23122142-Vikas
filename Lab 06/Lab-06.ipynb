{
 "cells": [
  {
   "cell_type": "code",
   "execution_count": 8,
   "metadata": {},
   "outputs": [
    {
     "name": "stdout",
     "output_type": "stream",
     "text": [
      "Cranberry 1 45\n",
      " 45\n",
      "Cranberry 2 80\n",
      " 160\n",
      "Orange 1 70\n",
      " 70\n",
      "Strawberry 7 85\n",
      " 595\n",
      "Pomogranette 4 60\n",
      " 240\n",
      "Apple 7 80\n",
      " 560\n",
      "Litchie 5 65\n",
      " 325\n",
      "Cranberry 7 80\n",
      " 560\n",
      "Litchie 2 60\n",
      " 120\n",
      "Watermelon 7 55\n",
      " 385\n",
      "Strawberry 3 45\n",
      " 135\n",
      "Pineapple 5 65\n",
      " 325\n",
      "Strawberry 3 55\n",
      " 165\n",
      "Litchie 4 50\n",
      " 200\n",
      "Pineapple 5 60\n",
      " 300\n"
     ]
    }
   ],
   "source": [
    "#Storing three lists of random values\n",
    "Fruits=[\"Apple\",\"Orange\",\"Grapes\",\"Watermelon\",\"Mango\",\"Litchie\",\"Cranberry\",\"Pineapple\",\"Pomogranette\",\"Strawberry\"]\n",
    "Quantity=[\"2\",\"4\",\"3\",\"5\",\"4\",\"1\",\"7\",\"8\",\"5\",\"6\"]\n",
    "Price=[\"45\",\"50\",\"40\",\"55\",\"60\",\"75\",\"65\",\"70\",\"80\",\"85\"]\n",
    "\n",
    "#Gtting random values from the list\n",
    "import random\n",
    "r1=random.randint(0,9)\n",
    "r2=random.randint(0,9)\n",
    "r3=random.randint(0,9)\n",
    "\n",
    "\n",
    "#Storing it in a csv file\n",
    "with open(\"23122142(2).csv\",\"a+\") as file:\n",
    "    for i in range(0,100,1):\n",
    "        r1=random.randint(0,9)\n",
    "        r2=random.randint(0,9)\n",
    "        r3=random.randint(0,9)\n",
    "        file.write(Fruits[r1]+\",\"+Quantity[r2]+\",\"+Price[r3]+\"\\n\")\n",
    "file.close()\n",
    "\n",
    "#We're defining a function to calculate the total cost\n",
    "def total_cost():\n",
    "    f=0\n",
    "    for i in open(\"23122142(2).csv\",\"r+\").readlines():\n",
    "        rv=i.split(\",\")\n",
    "        f=f+1\n",
    "        if f<=5 or f>=91:\n",
    "            print(rv[0],rv[1],rv[2],int(rv[1])*int(rv[2]))\n",
    "total_cost()\n",
    "\n",
    "    "
   ]
  },
  {
   "cell_type": "code",
   "execution_count": 7,
   "metadata": {},
   "outputs": [],
   "source": [
    "file=open(\"23122142(2).csv\",\"w+\")\n",
    "file.close()"
   ]
  },
  {
   "cell_type": "code",
   "execution_count": null,
   "metadata": {},
   "outputs": [],
   "source": []
  }
 ],
 "metadata": {
  "kernelspec": {
   "display_name": "Python 3",
   "language": "python",
   "name": "python3"
  },
  "language_info": {
   "codemirror_mode": {
    "name": "ipython",
    "version": 3
   },
   "file_extension": ".py",
   "mimetype": "text/x-python",
   "name": "python",
   "nbconvert_exporter": "python",
   "pygments_lexer": "ipython3",
   "version": "3.11.4"
  },
  "orig_nbformat": 4
 },
 "nbformat": 4,
 "nbformat_minor": 2
}
